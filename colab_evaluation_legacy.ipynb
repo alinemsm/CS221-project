{
 "cells": [
  {
   "metadata": {},
   "cell_type": "code",
   "execution_count": null,
   "source": [
    "import os\n",
    "from google.colab import userdata, drive\n",
    "\n",
    "COLAB = True\n",
    "KAGGLE = True\n",
    "DOWNLOAD_DATA = True\n",
    "SAVE_TO_GITHUB = True\n",
    "GIT_REPOSITORY = \"CS221-project\"\n",
    "FILE_NAME = \"colab_tuning_legacy.ipynb\"\n",
    "\n",
    "if COLAB:\n",
    "    %cd / content\n",
    "    drive.mount('/content/drive', force_remount=True)\n",
    "if COLAB:\n",
    "    PARENT_DIRECTORY_PATH = \"/content\"\n",
    "    # In case you want to clone in your drive:\n",
    "    PARENT_DIRECTORY_PATH = \"/content/drive/MyDrive\"\n",
    "    PROJECT_PATH = PARENT_DIRECTORY_PATH + \"/\" + GIT_REPOSITORY\n",
    "    %cd \"{PARENT_DIRECTORY_PATH}\"\n",
    "if COLAB:\n",
    "    import json\n",
    "    import os\n",
    "\n",
    "    with open(f\"{PARENT_DIRECTORY_PATH}/Git/git.json\", \"r\") as f:\n",
    "        parsed_json = json.load(f)\n",
    "\n",
    "    GIT_USER_NAME = parsed_json[\"GIT_USER_NAME\"]\n",
    "    GIT_TOKEN = parsed_json[\"GIT_TOKEN\"]\n",
    "    GIT_USER_EMAIL = parsed_json[\"GIT_USER_EMAIL\"]\n",
    "\n",
    "    GIT_PATH = (\n",
    "        f\"https://{GIT_TOKEN}@github.com/{GIT_USER_NAME}/{GIT_REPOSITORY}.git\"\n",
    "    )\n",
    "\n",
    "    %cd \"{PARENT_DIRECTORY_PATH}\"\n",
    "\n",
    "    if os.path.exists(f\"{PARENT_DIRECTORY_PATH}/{GIT_REPOSITORY}\"):\n",
    "        %cd \"{PROJECT_PATH}\"\n",
    "        !git pull\n",
    "    else:\n",
    "        !git clone \"{GIT_PATH}\"  # Clone the github repository\n",
    "        %cd \"{PROJECT_PATH}\""
   ],
   "id": "471c3a5c8d15035",
   "outputs": []
  },
  {
   "metadata": {},
   "cell_type": "code",
   "execution_count": null,
   "source": [
    "# Install Keras 3 last. See https://keras.io/getting_started/ for more details.\n",
    "!pip install -q -U keras-nlp\n",
    "!pip install -q -U keras>=3\n",
    "### Select a backend\n",
    "import os\n",
    "os.environ[\"KERAS_BACKEND\"] = \"jax\"  # Or \"torch\" or \"tensorflow\".\n",
    "# Avoid memory fragmentation on JAX backend.\n",
    "os.environ[\"XLA_PYTHON_CLIENT_MEM_FRACTION\"] = \"1.00\""
   ],
   "id": "fa988c39b4c1c69e",
   "outputs": []
  },
  {
   "metadata": {},
   "cell_type": "code",
   "execution_count": null,
   "source": [
    "import keras\n",
    "import keras_nlp"
   ],
   "id": "bb799b8c4a9b5661",
   "outputs": []
  },
  {
   "metadata": {},
   "cell_type": "code",
   "execution_count": null,
   "source": "os.environ[\"KAGGLE_CONFIG_DIR\"] = f\"{PARENT_DIRECTORY_PATH}/Kaggle/kaggle.json\"",
   "id": "15dc3beb05a864da",
   "outputs": []
  },
  {
   "metadata": {},
   "cell_type": "code",
   "execution_count": null,
   "source": "gemma_lm = keras_nlp.models.GemmaCausalLM.from_preset(\"gemma_2b_en\")",
   "id": "7004d17de28b26c4",
   "outputs": []
  },
  {
   "metadata": {},
   "cell_type": "code",
   "execution_count": null,
   "source": [
    "from utils import preprocess_qa_data, compute_rouge_l\n",
    "\n",
    "with open(\"qa_test_data.txt\") as file:\n",
    "    content = file.read()\n",
    "data = preprocess_qa_data(content)"
   ],
   "id": "3bf715bb8eff25c0",
   "outputs": []
  },
  {
   "metadata": {},
   "cell_type": "code",
   "execution_count": null,
   "source": [
    "# Generate responses and compute ROUGE-L metric\n",
    "template = \"Instruction:\\n{instruction}\\n\\nResponse:\\n{response}\"\n",
    "results = []\n",
    "rouge_l_scores = []\n",
    "\n",
    "for item in data:\n",
    "    prompt = template.format(instruction=item[\"instruction\"], response=\"\")\n",
    "    model_response = gemma_lm.generate(prompt, max_length=256)[0]\n",
    "\n",
    "    rouge_l_score = compute_rouge_l(item[\"response\"], model_response)\n",
    "    rouge_l_scores.append(rouge_l_score)\n",
    "\n",
    "    result = {\n",
    "        \"instruction\": item[\"instruction\"],\n",
    "        \"model_response\": model_response,\n",
    "        \"original_response\": item[\"response\"],\n",
    "        \"rouge_l_score\": rouge_l_score\n",
    "    }\n",
    "    results.append(result)\n",
    "\n",
    "# Save results to a file\n",
    "with open(\"baseline_evaluation.json\", \"w\") as outfile:\n",
    "    json.dump(results, outfile, indent=4)\n"
   ],
   "id": "4bad975158147811",
   "outputs": []
  },
  {
   "metadata": {},
   "cell_type": "code",
   "execution_count": null,
   "source": [
    "# Output average ROUGE-L metric\n",
    "average_rouge_l = sum(rouge_l_scores) / len(rouge_l_scores)\n",
    "print(f\"Average ROUGE-L Metric: {average_rouge_l}\")"
   ],
   "id": "initial_id",
   "outputs": []
  },
  {
   "metadata": {
    "ExecuteTime": {
     "end_time": "2024-05-25T01:06:15.200035Z",
     "start_time": "2024-05-25T01:06:15.187963Z"
    }
   },
   "cell_type": "code",
   "source": [
    "import json\n",
    "with open(\"fine_tuned_evaluation.json\", \"r\") as file:\n",
    "    data = json.load(file)\n",
    "\n",
    "# Extract the rouge_l_score values\n",
    "ft_scores = [item[\"rouge_l_score\"] for item in data]\n",
    "\n",
    "\n",
    "with open(\"baseline_evaluation.json\", \"r\") as file:\n",
    "    data = json.load(file)\n",
    "\n",
    "# Extract the rouge_l_score values\n",
    "base_scores = [item[\"rouge_l_score\"] for item in data]"
   ],
   "id": "7e62b1ef44214962",
   "execution_count": 6,
   "outputs": []
  },
  {
   "metadata": {
    "ExecuteTime": {
     "end_time": "2024-05-25T01:07:21.308682Z",
     "start_time": "2024-05-25T01:07:19.999127Z"
    }
   },
   "cell_type": "code",
   "source": [
    "# histogram of ROUGE-L scores\n",
    "import matplotlib.pyplot as plt\n",
    "\n",
    "plt.hist(base_scores, bins=20, alpha=0.5, label=\"Baseline\")\n",
    "plt.hist(ft_scores, bins=20, alpha=0.5, label=\"Fine-tuned\")\n",
    "plt.legend(loc=\"upper right\")\n",
    "plt.xlabel(\"ROUGE-L Score\")\n",
    "plt.ylabel(\"Frequency\")\n",
    "plt.title(\"ROUGE-L Score Distribution\")\n",
    "plt.show()"
   ],
   "id": "3ea56e13eabf0853",
   "execution_count": 8,
   "outputs": []
  },
  {
   "metadata": {
    "ExecuteTime": {
     "end_time": "2024-05-25T01:07:12.783107Z",
     "start_time": "2024-05-25T01:07:08.491664Z"
    }
   },
   "cell_type": "code",
   "source": "!pip install -q -U matplotlib",
   "id": "b46d81647c4c724f",
   "execution_count": 7,
   "outputs": []
  },
  {
   "metadata": {},
   "cell_type": "code",
   "execution_count": null,
   "source": "",
   "id": "1c899fcf3622aeba",
   "outputs": []
  }
 ],
 "metadata": {
  "kernelspec": {
   "display_name": "Python 3",
   "language": "python",
   "name": "python3"
  },
  "language_info": {
   "codemirror_mode": {
    "name": "ipython",
    "version": 2
   },
   "file_extension": ".py",
   "mimetype": "text/x-python",
   "name": "python",
   "nbconvert_exporter": "python",
   "pygments_lexer": "ipython2",
   "version": "2.7.6"
  }
 },
 "nbformat": 4,
 "nbformat_minor": 5
}
